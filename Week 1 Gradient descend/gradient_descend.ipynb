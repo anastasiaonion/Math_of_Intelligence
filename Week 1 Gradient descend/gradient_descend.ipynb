{
 "cells": [
  {
   "cell_type": "markdown",
   "metadata": {},
   "source": [
    "<h1>Градиентный спуск</h1>\n",
    "\n",
    "Реализация градиентного спуска для вычисления параметров линейной регрессии между двумя переменными."
   ]
  },
  {
   "cell_type": "code",
   "execution_count": 1,
   "metadata": {
    "collapsed": true
   },
   "outputs": [],
   "source": [
    "#импортирование библиотек\n",
    "import numpy as np\n",
    "import pandas as pd\n",
    "import matplotlib.pyplot as plt\n",
    "import time\n",
    "from IPython import display\n",
    "%matplotlib inline"
   ]
  },
  {
   "cell_type": "code",
   "execution_count": 2,
   "metadata": {},
   "outputs": [
    {
     "data": {
      "text/html": [
       "<div>\n",
       "<style>\n",
       "    .dataframe thead tr:only-child th {\n",
       "        text-align: right;\n",
       "    }\n",
       "\n",
       "    .dataframe thead th {\n",
       "        text-align: left;\n",
       "    }\n",
       "\n",
       "    .dataframe tbody tr th {\n",
       "        vertical-align: top;\n",
       "    }\n",
       "</style>\n",
       "<table border=\"1\" class=\"dataframe\">\n",
       "  <thead>\n",
       "    <tr style=\"text-align: right;\">\n",
       "      <th></th>\n",
       "      <th>mpg</th>\n",
       "      <th>cylinders</th>\n",
       "      <th>displacement</th>\n",
       "      <th>horsepower</th>\n",
       "      <th>weight</th>\n",
       "      <th>acceleration</th>\n",
       "      <th>model year</th>\n",
       "      <th>origin</th>\n",
       "      <th>name</th>\n",
       "    </tr>\n",
       "  </thead>\n",
       "  <tbody>\n",
       "    <tr>\n",
       "      <th>0</th>\n",
       "      <td>18.0</td>\n",
       "      <td>8</td>\n",
       "      <td>307.0</td>\n",
       "      <td>130</td>\n",
       "      <td>3504</td>\n",
       "      <td>12.0</td>\n",
       "      <td>70</td>\n",
       "      <td>1</td>\n",
       "      <td>chevrolet chevelle malibu</td>\n",
       "    </tr>\n",
       "    <tr>\n",
       "      <th>1</th>\n",
       "      <td>15.0</td>\n",
       "      <td>8</td>\n",
       "      <td>350.0</td>\n",
       "      <td>165</td>\n",
       "      <td>3693</td>\n",
       "      <td>11.5</td>\n",
       "      <td>70</td>\n",
       "      <td>1</td>\n",
       "      <td>buick skylark 320</td>\n",
       "    </tr>\n",
       "    <tr>\n",
       "      <th>2</th>\n",
       "      <td>18.0</td>\n",
       "      <td>8</td>\n",
       "      <td>318.0</td>\n",
       "      <td>150</td>\n",
       "      <td>3436</td>\n",
       "      <td>11.0</td>\n",
       "      <td>70</td>\n",
       "      <td>1</td>\n",
       "      <td>plymouth satellite</td>\n",
       "    </tr>\n",
       "    <tr>\n",
       "      <th>3</th>\n",
       "      <td>16.0</td>\n",
       "      <td>8</td>\n",
       "      <td>304.0</td>\n",
       "      <td>150</td>\n",
       "      <td>3433</td>\n",
       "      <td>12.0</td>\n",
       "      <td>70</td>\n",
       "      <td>1</td>\n",
       "      <td>amc rebel sst</td>\n",
       "    </tr>\n",
       "    <tr>\n",
       "      <th>4</th>\n",
       "      <td>17.0</td>\n",
       "      <td>8</td>\n",
       "      <td>302.0</td>\n",
       "      <td>140</td>\n",
       "      <td>3449</td>\n",
       "      <td>10.5</td>\n",
       "      <td>70</td>\n",
       "      <td>1</td>\n",
       "      <td>ford torino</td>\n",
       "    </tr>\n",
       "  </tbody>\n",
       "</table>\n",
       "</div>"
      ],
      "text/plain": [
       "    mpg  cylinders  displacement horsepower  weight  acceleration  model year  \\\n",
       "0  18.0          8         307.0        130    3504          12.0          70   \n",
       "1  15.0          8         350.0        165    3693          11.5          70   \n",
       "2  18.0          8         318.0        150    3436          11.0          70   \n",
       "3  16.0          8         304.0        150    3433          12.0          70   \n",
       "4  17.0          8         302.0        140    3449          10.5          70   \n",
       "\n",
       "   origin                       name  \n",
       "0       1  chevrolet chevelle malibu  \n",
       "1       1          buick skylark 320  \n",
       "2       1         plymouth satellite  \n",
       "3       1              amc rebel sst  \n",
       "4       1                ford torino  "
      ]
     },
     "execution_count": 2,
     "metadata": {},
     "output_type": "execute_result"
    }
   ],
   "source": [
    "#загрузка данных\n",
    "#названия колонок\n",
    "columns = ['mpg', 'cylinders', 'displacement', 'horsepower', 'weight', 'acceleration', 'model year', 'origin', 'name']\n",
    "needed_columns = ['acceleration', 'horsepower']\n",
    "data = pd.read_csv('data/auto-mpg.csv', names = columns)\n",
    "#убираем пропущенные значения в \"horsepower\"\n",
    "data = data[data.horsepower != '?'] \n",
    "#к-во значений в столбце\n",
    "numOfInstance = data.shape[0]\n",
    "data.head()"
   ]
  },
  {
   "cell_type": "code",
   "execution_count": 3,
   "metadata": {
    "collapsed": true
   },
   "outputs": [],
   "source": [
    "#переводим данные из типа DataFrame в numpy array\n",
    "data = data[needed_columns].as_matrix()"
   ]
  },
  {
   "cell_type": "code",
   "execution_count": 4,
   "metadata": {},
   "outputs": [
    {
     "data": {
      "image/png": "[encoded data removed]",
      "text/plain": [
       "<matplotlib.figure.Figure at 0x6eb2e70>"
      ]
     },
     "metadata": {},
     "output_type": "display_data"
    }
   ],
   "source": [
    "#отображаем данные\n",
    "plt.figure(figsize=(10,5))\n",
    "plt.title('Acceleration and horsepower')\n",
    "plt.scatter(x=data[:,0],y=data[:,1])\n",
    "plt.xlabel('Acceleration')\n",
    "plt.ylabel('Horsepower')\n",
    "plt.show()"
   ]
  },
  {
   "cell_type": "code",
   "execution_count": 5,
   "metadata": {
    "collapsed": true
   },
   "outputs": [],
   "source": [
    "#считаем сумму квадратов ошибки\n",
    "def SSE(m, b, data):\n",
    "    totalError = 0.0\n",
    "    for i in range(numOfInstance):\n",
    "        acceleration = data[i,0]\n",
    "        horsepower = float(data[i,1])\n",
    "        realOutput = horsepower\n",
    "        currentOutput = acceleration*m + b\n",
    "        currentError = (realOutput - currentOutput)**2\n",
    "        totalError += currentError\n",
    "    sse = totalError / numOfInstance\n",
    "    return totalError"
   ]
  },
  {
   "cell_type": "code",
   "execution_count": 6,
   "metadata": {
    "collapsed": true
   },
   "outputs": [],
   "source": [
    "def gradient_descent_step(m,b,data):\n",
    "    \n",
    "    score = 0.001 #скорость обучения\n",
    "    \n",
    "    N = numOfInstance\n",
    "    m_grad = 0\n",
    "    b_grad = 0\n",
    "    \n",
    "    for i in range(N):\n",
    "\n",
    "        #получение текущей пары значений\n",
    "        x = data[i,0]\n",
    "        y = float(data[i,1])\n",
    "\n",
    "        #производная для рассчёта значения 'm'\n",
    "        dm = -((2/N) * x * (y - (m*x + b)))\n",
    "        \n",
    "        #производная для рассчёта значения 'b'\n",
    "        db = - ((2/N) * (y - (m*x + b)))\n",
    "    \n",
    "        #обновляем градиент\n",
    "        m_grad = m_grad + dm\n",
    "        b_grad = b_grad + db\n",
    "    \n",
    "    #Устанавливаем улучшенные значения 'm' и 'b'\n",
    "    m_updated = m - score*m_grad\n",
    "    b_updated = b - score*b_grad\n",
    "    \n",
    "    return m_updated,b_updated"
   ]
  },
  {
   "cell_type": "code",
   "execution_count": 7,
   "metadata": {
    "collapsed": true
   },
   "outputs": [],
   "source": [
    "#градиентный спуск\n",
    "def gradient_descent_n_steps(m_starting,b_starting,data,steps):\n",
    "    print('Стартовая линия: y = %.6fx + %.6f - Ошибка: %.6f\\n' %(m_starting,b_starting,SSE(m_starting,b_starting,data)))\n",
    "    m = m_starting\n",
    "    b = b_starting\n",
    "    display_freq = steps//10\n",
    "    for i in range(steps):\n",
    "        m,b = gradient_descent_step(m,b,data)\n",
    "        if(i % display_freq == 0):\n",
    "            sse = SSE(m,b,data)\n",
    "            print('На шаге %d - Линия: y = %.6fx + %.6f - Ошибка: %.6f' %(i+1,m,b,sse))\n",
    "    \n",
    "    \n",
    "    print('\\nЛучшая линия: y = %.6fx + %.6f - Ошибка: %.6f' %(m,b,sse))\n",
    "    return m,b"
   ]
  },
  {
   "cell_type": "code",
   "execution_count": 8,
   "metadata": {
    "collapsed": true
   },
   "outputs": [],
   "source": [
    "M_STARTING = 0\n",
    "B_STARTING = 0\n",
    "NUM_STEPS = 150000"
   ]
  },
  {
   "cell_type": "code",
   "execution_count": 9,
   "metadata": {},
   "outputs": [
    {
     "name": "stdout",
     "output_type": "stream",
     "text": [
      "Стартовая линия: y = 0.000000x + 0.000000 - Ошибка: 4857524.000000\n",
      "\n",
      "На шаге 1 - Линия: y = 3.101185x + 0.208939 - Ошибка: 2017522.653292\n",
      "На шаге 15001 - Линия: y = -3.253538x + 151.938286 - Ошибка: 428345.211372\n",
      "На шаге 30001 - Линия: y = -7.056499x + 212.891666 - Ошибка: 324231.291034\n",
      "На шаге 45001 - Линия: y = -8.586192x + 237.409377 - Ошибка: 307386.212029\n",
      "На шаге 60001 - Линия: y = -9.201491x + 247.271310 - Ошибка: 304660.767768\n",
      "На шаге 75001 - Линия: y = -9.448987x + 251.238145 - Ошибка: 304219.805370\n",
      "На шаге 90001 - Линия: y = -9.548539x + 252.833754 - Ошибка: 304148.459998\n",
      "На шаге 105001 - Линия: y = -9.588582x + 253.475566 - Ошибка: 304136.916696\n",
      "На шаге 120001 - Линия: y = -9.604689x + 253.733727 - Ошибка: 304135.049051\n",
      "На шаге 135001 - Линия: y = -9.611168x + 253.837569 - Ошибка: 304134.746876\n",
      "\n",
      "Лучшая линия: y = -9.613774x + 253.879337 - Ошибка: 304134.746876\n"
     ]
    }
   ],
   "source": [
    "m_best,b_best = gradient_descent_n_steps(M_STARTING,B_STARTING,data,NUM_STEPS)"
   ]
  },
  {
   "cell_type": "code",
   "execution_count": 10,
   "metadata": {},
   "outputs": [
    {
     "data": {
      "image/png": "[encoded data removed]",
      "text/plain": [
       "<matplotlib.figure.Figure at 0x70ac0b0>"
      ]
     },
     "metadata": {},
     "output_type": "display_data"
    }
   ],
   "source": [
    "m=m_best\n",
    "b=b_best\n",
    "x = data[:,0]\n",
    "#отображаем лучшую линию\n",
    "fig = plt.figure(figsize=(10,5))\n",
    "ax = fig.add_subplot(111)\n",
    "ax.scatter(x=x,y=data[:,1],label='Data')\n",
    "plt.plot(x, m*x + b,color='red',label='BEST Fitting Line')\n",
    "ax.set_xlabel('Acceleration')\n",
    "ax.set_ylabel('Horsepower')\n",
    "ax.legend(loc='best')\n",
    "\n",
    "plt.show()"
   ]
  }
 ],
 "metadata": {
  "kernelspec": {
   "display_name": "Python 3",
   "language": "python",
   "name": "python3"
  },
  "language_info": {
   "codemirror_mode": {
    "name": "ipython",
    "version": 3
   },
   "file_extension": ".py",
   "mimetype": "text/x-python",
   "name": "python",
   "nbconvert_exporter": "python",
   "pygments_lexer": "ipython3",
   "version": "3.6.1"
  }
 },
 "nbformat": 4,
 "nbformat_minor": 2
}
